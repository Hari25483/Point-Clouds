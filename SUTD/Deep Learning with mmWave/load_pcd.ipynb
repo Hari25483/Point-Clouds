{
 "cells": [
  {
   "cell_type": "code",
   "execution_count": 17,
   "metadata": {},
   "outputs": [
    {
     "ename": "ModuleNotFoundError",
     "evalue": "No module named 'rosbag'",
     "output_type": "error",
     "traceback": [
      "\u001b[0;31m---------------------------------------------------------------------------\u001b[0m",
      "\u001b[0;31mModuleNotFoundError\u001b[0m                       Traceback (most recent call last)",
      "\u001b[1;32m/Users/hari/Documents/SUTD/Deep Learning with mmWave/load_pcd.ipynb Cell 1\u001b[0m line \u001b[0;36m1\n\u001b[0;32m----> <a href='vscode-notebook-cell:/Users/hari/Documents/SUTD/Deep%20Learning%20with%20mmWave/load_pcd.ipynb#W0sZmlsZQ%3D%3D?line=0'>1</a>\u001b[0m \u001b[39mimport\u001b[39;00m \u001b[39mrosbag\u001b[39;00m\n\u001b[1;32m      <a href='vscode-notebook-cell:/Users/hari/Documents/SUTD/Deep%20Learning%20with%20mmWave/load_pcd.ipynb#W0sZmlsZQ%3D%3D?line=1'>2</a>\u001b[0m \u001b[39mimport\u001b[39;00m \u001b[39msensor_msgs\u001b[39;00m\u001b[39m.\u001b[39;00m\u001b[39mpoint_cloud2\u001b[39;00m \u001b[39mas\u001b[39;00m \u001b[39mpc2\u001b[39;00m\n\u001b[1;32m      <a href='vscode-notebook-cell:/Users/hari/Documents/SUTD/Deep%20Learning%20with%20mmWave/load_pcd.ipynb#W0sZmlsZQ%3D%3D?line=2'>3</a>\u001b[0m \u001b[39mfrom\u001b[39;00m \u001b[39msensor_msgs\u001b[39;00m\u001b[39m.\u001b[39;00m\u001b[39mmsg\u001b[39;00m \u001b[39mimport\u001b[39;00m PointCloud2\n",
      "\u001b[0;31mModuleNotFoundError\u001b[0m: No module named 'rosbag'"
     ]
    }
   ],
   "source": [
    "import rosbag\n",
    "import sensor_msgs.point_cloud2 as pc2\n",
    "from sensor_msgs.msg import PointCloud2\n",
    "\n",
    "# Function to read point clouds from a ROS bag file\n",
    "def read_point_clouds(bag_file, topic):\n",
    "    point_clouds = []\n",
    "    bag = rosbag.Bag(bag_file, 'r')\n",
    "    for _, msg, _ in bag.read_messages(topics=[topic]):\n",
    "        # Read the point cloud data\n",
    "        cloud_points = pc2.read_points(msg, field_names=(\"x\", \"y\", \"z\"), skip_nans=True)\n",
    "        point_clouds.append(np.array(list(cloud_points)))\n",
    "    bag.close()\n",
    "    return point_clouds\n",
    "\n",
    "# Replace with your bag file and topic\n",
    "bag_file = '2023-10-15-16-26-34.bag'\n",
    "topic = '/your_pointcloud_topic'\n",
    "point_clouds = read_point_clouds(bag_file, topic)\n"
   ]
  },
  {
   "cell_type": "code",
   "execution_count": null,
   "metadata": {},
   "outputs": [],
   "source": [
    "import numpy as np\n",
    "from sklearn.preprocessing import StandardScaler\n",
    "\n",
    "def preprocess_point_cloud(point_cloud, num_points=2048):\n",
    "    \"\"\"\n",
    "    Preprocess point cloud data for PointNet:\n",
    "    - Randomly sample a fixed number of points.\n",
    "    - Normalize the coordinates.\n",
    "    \"\"\"\n",
    "    # Randomly sample points if there are too many\n",
    "    if len(point_cloud) > num_points:\n",
    "        idxs = np.random.choice(len(point_cloud), num_points, replace=False)\n",
    "        sampled_points = point_cloud[idxs, :]\n",
    "    else:\n",
    "        sampled_points = point_cloud\n",
    "\n",
    "    # Normalize the point cloud\n",
    "    scaler = StandardScaler()\n",
    "    normalized_points = scaler.fit_transform(sampled_points)\n",
    "\n",
    "    return normalized_points\n",
    "\n",
    "# Assuming 'point_clouds' is a list of numpy arrays with point cloud data\n",
    "preprocessed_point_clouds = [preprocess_point_cloud(pc) for pc in point_clouds]\n",
    "\n",
    "# Now 'preprocessed_point_clouds' can be used as input to PointNet\n"
   ]
  },
  {
   "cell_type": "code",
   "execution_count": null,
   "metadata": {},
   "outputs": [
    {
     "name": "stdout",
     "output_type": "stream",
     "text": [
      "Collecting rosbags\n",
      "  Obtaining dependency information for rosbags from https://files.pythonhosted.org/packages/2f/f8/9139638c7e9a407cd9a109ac60a2e0521356437136efbd06b924d7521c62/rosbags-0.9.16-py3-none-any.whl.metadata\n",
      "  Downloading rosbags-0.9.16-py3-none-any.whl.metadata (5.9 kB)\n",
      "Collecting lz4 (from rosbags)\n",
      "  Downloading lz4-4.3.2-cp311-cp311-macosx_11_0_arm64.whl (212 kB)\n",
      "\u001b[2K     \u001b[90m━━━━━━━━━━━━━━━━━━━━━━━━━━━━━━━━━━━━━━\u001b[0m \u001b[32m212.3/212.3 kB\u001b[0m \u001b[31m13.3 MB/s\u001b[0m eta \u001b[36m0:00:00\u001b[0m\n",
      "\u001b[?25hRequirement already satisfied: numpy in /opt/homebrew/lib/python3.11/site-packages (from rosbags) (1.26.0)\n",
      "Collecting ruamel.yaml (from rosbags)\n",
      "  Obtaining dependency information for ruamel.yaml from https://files.pythonhosted.org/packages/57/db/4b74a29f5fd175aea3ff0d95f8230d9bb8a54e38d963c6f96065b9e2eef3/ruamel.yaml-0.18.5-py3-none-any.whl.metadata\n",
      "  Downloading ruamel.yaml-0.18.5-py3-none-any.whl.metadata (23 kB)\n",
      "Collecting zstandard (from rosbags)\n",
      "  Obtaining dependency information for zstandard from https://files.pythonhosted.org/packages/54/fc/c1b1a1e140451f3362789f546731b3ef36c78668be19d7fc6fbd4326b535/zstandard-0.22.0-cp311-cp311-macosx_11_0_arm64.whl.metadata\n",
      "  Downloading zstandard-0.22.0-cp311-cp311-macosx_11_0_arm64.whl.metadata (2.9 kB)\n",
      "Collecting ruamel.yaml.clib>=0.2.7 (from ruamel.yaml->rosbags)\n",
      "  Obtaining dependency information for ruamel.yaml.clib>=0.2.7 from https://files.pythonhosted.org/packages/01/b0/4ddef56e9f703d7909febc3a421d709a3482cda25826816ec595b73e3847/ruamel.yaml.clib-0.2.8-cp311-cp311-macosx_13_0_arm64.whl.metadata\n",
      "  Downloading ruamel.yaml.clib-0.2.8-cp311-cp311-macosx_13_0_arm64.whl.metadata (2.2 kB)\n",
      "Downloading rosbags-0.9.16-py3-none-any.whl (77 kB)\n",
      "\u001b[2K   \u001b[90m━━━━━━━━━━━━━━━━━━━━━━━━━━━━━━━━━━━━━━━━\u001b[0m \u001b[32m77.4/77.4 kB\u001b[0m \u001b[31m8.4 MB/s\u001b[0m eta \u001b[36m0:00:00\u001b[0m\n",
      "\u001b[?25hDownloading ruamel.yaml-0.18.5-py3-none-any.whl (116 kB)\n",
      "\u001b[2K   \u001b[90m━━━━━━━━━━━━━━━━━━━━━━━━━━━━━━━━━━━━━━━━\u001b[0m \u001b[32m116.4/116.4 kB\u001b[0m \u001b[31m15.4 MB/s\u001b[0m eta \u001b[36m0:00:00\u001b[0m\n",
      "\u001b[?25hDownloading zstandard-0.22.0-cp311-cp311-macosx_11_0_arm64.whl (703 kB)\n",
      "\u001b[2K   \u001b[90m━━━━━━━━━━━━━━━━━━━━━━━━━━━━━━━━━━━━━━━━\u001b[0m \u001b[32m703.4/703.4 kB\u001b[0m \u001b[31m35.3 MB/s\u001b[0m eta \u001b[36m0:00:00\u001b[0m\n",
      "\u001b[?25hDownloading ruamel.yaml.clib-0.2.8-cp311-cp311-macosx_13_0_arm64.whl (134 kB)\n",
      "\u001b[2K   \u001b[90m━━━━━━━━━━━━━━━━━━━━━━━━━━━━━━━━━━━━━━━━\u001b[0m \u001b[32m134.5/134.5 kB\u001b[0m \u001b[31m23.0 MB/s\u001b[0m eta \u001b[36m0:00:00\u001b[0m\n",
      "\u001b[?25hInstalling collected packages: zstandard, ruamel.yaml.clib, lz4, ruamel.yaml, rosbags\n",
      "Successfully installed lz4-4.3.2 rosbags-0.9.16 ruamel.yaml-0.18.5 ruamel.yaml.clib-0.2.8 zstandard-0.22.0\n",
      "\n",
      "\u001b[1m[\u001b[0m\u001b[34;49mnotice\u001b[0m\u001b[1;39;49m]\u001b[0m\u001b[39;49m A new release of pip is available: \u001b[0m\u001b[31;49m23.2.1\u001b[0m\u001b[39;49m -> \u001b[0m\u001b[32;49m23.3.1\u001b[0m\n",
      "\u001b[1m[\u001b[0m\u001b[34;49mnotice\u001b[0m\u001b[1;39;49m]\u001b[0m\u001b[39;49m To update, run: \u001b[0m\u001b[32;49mpython3.11 -m pip install --upgrade pip\u001b[0m\n"
     ]
    }
   ],
   "source": [
    "!pip3 install rosbags\n"
   ]
  },
  {
   "cell_type": "code",
   "execution_count": null,
   "metadata": {},
   "outputs": [
    {
     "ename": "ModuleNotFoundError",
     "evalue": "No module named 'open3d'",
     "output_type": "error",
     "traceback": [
      "\u001b[0;31m---------------------------------------------------------------------------\u001b[0m",
      "\u001b[0;31mModuleNotFoundError\u001b[0m                       Traceback (most recent call last)",
      "\u001b[1;32m/Users/hari/Documents/SUTD/Deep Learning with mmWave/load_pcd.ipynb Cell 4\u001b[0m line \u001b[0;36m1\n\u001b[0;32m----> <a href='vscode-notebook-cell:/Users/hari/Documents/SUTD/Deep%20Learning%20with%20mmWave/load_pcd.ipynb#W3sZmlsZQ%3D%3D?line=0'>1</a>\u001b[0m \u001b[39mimport\u001b[39;00m \u001b[39mopen3d\u001b[39;00m \u001b[39mas\u001b[39;00m \u001b[39mo3d\u001b[39;00m\n\u001b[1;32m      <a href='vscode-notebook-cell:/Users/hari/Documents/SUTD/Deep%20Learning%20with%20mmWave/load_pcd.ipynb#W3sZmlsZQ%3D%3D?line=1'>2</a>\u001b[0m \u001b[39mimport\u001b[39;00m \u001b[39mrosbag\u001b[39;00m\n\u001b[1;32m      <a href='vscode-notebook-cell:/Users/hari/Documents/SUTD/Deep%20Learning%20with%20mmWave/load_pcd.ipynb#W3sZmlsZQ%3D%3D?line=2'>3</a>\u001b[0m \u001b[39mimport\u001b[39;00m \u001b[39msensor_msgs\u001b[39;00m\u001b[39m.\u001b[39;00m\u001b[39mpoint_cloud2\u001b[39;00m \u001b[39mas\u001b[39;00m \u001b[39mpc2\u001b[39;00m\n",
      "\u001b[0;31mModuleNotFoundError\u001b[0m: No module named 'open3d'"
     ]
    }
   ],
   "source": [
    "import open3d as o3d\n",
    "import rosbag\n",
    "import sensor_msgs.point_cloud2 as pc2\n",
    "from sensor_msgs.msg import PointCloud2\n",
    "import numpy as np\n",
    "\n",
    "def read_pointcloud2_from_rosbag(rosbag_path, topic):\n",
    "    bag = rosbag.Bag(rosbag_path, 'r')\n",
    "    for topic, msg, t in bag.read_messages(topics=[topic]):\n",
    "        # Convert the PointCloud2 message to an array of points\n",
    "        # The 'field_names' must correspond to the fields in your PointCloud2 message\n",
    "        cloud_points = pc2.read_points(msg, field_names=(\"x\", \"y\", \"z\"), skip_nans=True)\n",
    "        points = np.array(list(cloud_points))\n",
    "        yield points, t\n",
    "    bag.close()\n",
    "\n",
    "def voxelize_pointcloud(points, voxel_size):\n",
    "    # Convert the numpy array of points to an Open3D point cloud\n",
    "    o3d_pc = o3d.geometry.PointCloud()\n",
    "    o3d_pc.points = o3d.utility.Vector3dVector(points)\n",
    "\n",
    "    # Voxelization\n",
    "    voxel_grid = o3d.geometry.VoxelGrid.create_from_point_cloud(o3d_pc, voxel_size)\n",
    "    return voxel_grid\n",
    "\n",
    "# Specify the path to your ROS bag and the point cloud topic\n",
    "rosbag_path = 'path_to_your_rosbag.bag'\n",
    "pointcloud_topic = '/your_pointcloud_topic'\n",
    "voxel_size = 0.05  # for example, 5cm voxel size\n",
    "\n",
    "# Process each point cloud\n",
    "for points, t in read_pointcloud2_from_rosbag(rosbag_path, pointcloud_topic):\n",
    "    voxel_grid = voxelize_pointcloud(points, voxel_size)\n",
    "    # Now you can use the voxel_grid for further processing or as input to your model\n",
    "    # For example, you can convert the voxel grid to a format suitable for your neural network\n"
   ]
  },
  {
   "cell_type": "code",
   "execution_count": 1,
   "metadata": {},
   "outputs": [
    {
     "name": "stdout",
     "output_type": "stream",
     "text": [
      "Requirement already satisfied: open3d in /Users/hari/anaconda3/lib/python3.10/site-packages (0.17.0)\n",
      "Requirement already satisfied: numpy>=1.18.0 in /Users/hari/anaconda3/lib/python3.10/site-packages (from open3d) (1.24.3)\n",
      "Requirement already satisfied: dash>=2.6.0 in /Users/hari/anaconda3/lib/python3.10/site-packages (from open3d) (2.9.3)\n",
      "Requirement already satisfied: werkzeug>=2.2.3 in /Users/hari/anaconda3/lib/python3.10/site-packages (from open3d) (3.0.1)\n",
      "Requirement already satisfied: nbformat==5.7.0 in /Users/hari/anaconda3/lib/python3.10/site-packages (from open3d) (5.7.0)\n",
      "Requirement already satisfied: configargparse in /Users/hari/anaconda3/lib/python3.10/site-packages (from open3d) (1.7)\n",
      "Requirement already satisfied: addict in /Users/hari/anaconda3/lib/python3.10/site-packages (from open3d) (2.4.0)\n",
      "Requirement already satisfied: pillow>=9.3.0 in /Users/hari/anaconda3/lib/python3.10/site-packages (from open3d) (9.4.0)\n",
      "Requirement already satisfied: matplotlib>=3 in /Users/hari/anaconda3/lib/python3.10/site-packages (from open3d) (3.8.0)\n",
      "Requirement already satisfied: pandas>=1.0 in /Users/hari/anaconda3/lib/python3.10/site-packages (from open3d) (2.0.1)\n",
      "Requirement already satisfied: pyyaml>=5.4.1 in /Users/hari/anaconda3/lib/python3.10/site-packages (from open3d) (6.0)\n",
      "Requirement already satisfied: scikit-learn>=0.21 in /Users/hari/anaconda3/lib/python3.10/site-packages (from open3d) (1.2.2)\n",
      "Requirement already satisfied: tqdm in /Users/hari/anaconda3/lib/python3.10/site-packages (from open3d) (4.64.1)\n",
      "Requirement already satisfied: pyquaternion in /Users/hari/anaconda3/lib/python3.10/site-packages (from open3d) (0.9.9)\n",
      "Requirement already satisfied: fastjsonschema in /Users/hari/anaconda3/lib/python3.10/site-packages (from nbformat==5.7.0->open3d) (2.16.2)\n",
      "Requirement already satisfied: jsonschema>=2.6 in /Users/hari/anaconda3/lib/python3.10/site-packages (from nbformat==5.7.0->open3d) (4.17.3)\n",
      "Requirement already satisfied: jupyter-core in /Users/hari/anaconda3/lib/python3.10/site-packages (from nbformat==5.7.0->open3d) (5.2.0)\n",
      "Requirement already satisfied: traitlets>=5.1 in /Users/hari/anaconda3/lib/python3.10/site-packages (from nbformat==5.7.0->open3d) (5.7.1)\n",
      "Requirement already satisfied: Flask>=1.0.4 in /Users/hari/anaconda3/lib/python3.10/site-packages (from dash>=2.6.0->open3d) (2.2.2)\n",
      "Requirement already satisfied: plotly>=5.0.0 in /Users/hari/anaconda3/lib/python3.10/site-packages (from dash>=2.6.0->open3d) (5.14.1)\n",
      "Requirement already satisfied: dash-html-components==2.0.0 in /Users/hari/anaconda3/lib/python3.10/site-packages (from dash>=2.6.0->open3d) (2.0.0)\n",
      "Requirement already satisfied: dash-core-components==2.0.0 in /Users/hari/anaconda3/lib/python3.10/site-packages (from dash>=2.6.0->open3d) (2.0.0)\n",
      "Requirement already satisfied: dash-table==5.0.0 in /Users/hari/anaconda3/lib/python3.10/site-packages (from dash>=2.6.0->open3d) (5.0.0)\n",
      "Requirement already satisfied: contourpy>=1.0.1 in /Users/hari/anaconda3/lib/python3.10/site-packages (from matplotlib>=3->open3d) (1.0.5)\n",
      "Requirement already satisfied: cycler>=0.10 in /Users/hari/anaconda3/lib/python3.10/site-packages (from matplotlib>=3->open3d) (0.10.0)\n",
      "Requirement already satisfied: fonttools>=4.22.0 in /Users/hari/anaconda3/lib/python3.10/site-packages (from matplotlib>=3->open3d) (4.25.0)\n",
      "Requirement already satisfied: kiwisolver>=1.0.1 in /Users/hari/anaconda3/lib/python3.10/site-packages (from matplotlib>=3->open3d) (1.4.4)\n",
      "Requirement already satisfied: packaging>=20.0 in /Users/hari/anaconda3/lib/python3.10/site-packages (from matplotlib>=3->open3d) (22.0)\n",
      "Requirement already satisfied: pyparsing>=2.3.1 in /Users/hari/anaconda3/lib/python3.10/site-packages (from matplotlib>=3->open3d) (2.4.7)\n",
      "Requirement already satisfied: python-dateutil>=2.7 in /Users/hari/anaconda3/lib/python3.10/site-packages (from matplotlib>=3->open3d) (2.8.2)\n",
      "Requirement already satisfied: pytz>=2020.1 in /Users/hari/anaconda3/lib/python3.10/site-packages (from pandas>=1.0->open3d) (2022.7)\n",
      "Requirement already satisfied: tzdata>=2022.1 in /Users/hari/anaconda3/lib/python3.10/site-packages (from pandas>=1.0->open3d) (2023.3)\n",
      "Requirement already satisfied: scipy>=1.3.2 in /Users/hari/anaconda3/lib/python3.10/site-packages (from scikit-learn>=0.21->open3d) (1.10.1)\n",
      "Requirement already satisfied: joblib>=1.1.1 in /Users/hari/anaconda3/lib/python3.10/site-packages (from scikit-learn>=0.21->open3d) (1.1.1)\n",
      "Requirement already satisfied: threadpoolctl>=2.0.0 in /Users/hari/anaconda3/lib/python3.10/site-packages (from scikit-learn>=0.21->open3d) (2.2.0)\n",
      "Requirement already satisfied: MarkupSafe>=2.1.1 in /Users/hari/anaconda3/lib/python3.10/site-packages (from werkzeug>=2.2.3->open3d) (2.1.1)\n",
      "Requirement already satisfied: six in /Users/hari/anaconda3/lib/python3.10/site-packages (from cycler>=0.10->matplotlib>=3->open3d) (1.16.0)\n",
      "Requirement already satisfied: Jinja2>=3.0 in /Users/hari/anaconda3/lib/python3.10/site-packages (from Flask>=1.0.4->dash>=2.6.0->open3d) (3.1.2)\n",
      "Requirement already satisfied: itsdangerous>=2.0 in /Users/hari/anaconda3/lib/python3.10/site-packages (from Flask>=1.0.4->dash>=2.6.0->open3d) (2.0.1)\n",
      "Requirement already satisfied: click>=8.0 in /Users/hari/anaconda3/lib/python3.10/site-packages (from Flask>=1.0.4->dash>=2.6.0->open3d) (8.0.4)\n",
      "Requirement already satisfied: attrs>=17.4.0 in /Users/hari/anaconda3/lib/python3.10/site-packages (from jsonschema>=2.6->nbformat==5.7.0->open3d) (22.1.0)\n",
      "Requirement already satisfied: pyrsistent!=0.17.0,!=0.17.1,!=0.17.2,>=0.14.0 in /Users/hari/anaconda3/lib/python3.10/site-packages (from jsonschema>=2.6->nbformat==5.7.0->open3d) (0.18.0)\n",
      "Requirement already satisfied: tenacity>=6.2.0 in /Users/hari/anaconda3/lib/python3.10/site-packages (from plotly>=5.0.0->dash>=2.6.0->open3d) (8.0.1)\n",
      "Requirement already satisfied: platformdirs>=2.5 in /Users/hari/anaconda3/lib/python3.10/site-packages (from jupyter-core->nbformat==5.7.0->open3d) (2.5.2)\n"
     ]
    }
   ],
   "source": [
    "!pip3 install open3d"
   ]
  },
  {
   "cell_type": "code",
   "execution_count": 4,
   "metadata": {},
   "outputs": [
    {
     "ename": "ModuleNotFoundError",
     "evalue": "No module named 'open3d'",
     "output_type": "error",
     "traceback": [
      "\u001b[0;31m---------------------------------------------------------------------------\u001b[0m",
      "\u001b[0;31mModuleNotFoundError\u001b[0m                       Traceback (most recent call last)",
      "\u001b[1;32m/Users/hari/Documents/SUTD/Deep Learning with mmWave/load_pcd.ipynb Cell 6\u001b[0m line \u001b[0;36m<cell line: 1>\u001b[0;34m()\u001b[0m\n\u001b[0;32m----> <a href='vscode-notebook-cell:/Users/hari/Documents/SUTD/Deep%20Learning%20with%20mmWave/load_pcd.ipynb#W4sZmlsZQ%3D%3D?line=0'>1</a>\u001b[0m \u001b[39mimport\u001b[39;00m \u001b[39mopen3d\u001b[39;00m \u001b[39mas\u001b[39;00m \u001b[39mo3d\u001b[39;00m\n\u001b[1;32m      <a href='vscode-notebook-cell:/Users/hari/Documents/SUTD/Deep%20Learning%20with%20mmWave/load_pcd.ipynb#W4sZmlsZQ%3D%3D?line=1'>2</a>\u001b[0m \u001b[39mimport\u001b[39;00m \u001b[39mnumpy\u001b[39;00m \u001b[39mas\u001b[39;00m \u001b[39mnp\u001b[39;00m\n\u001b[1;32m      <a href='vscode-notebook-cell:/Users/hari/Documents/SUTD/Deep%20Learning%20with%20mmWave/load_pcd.ipynb#W4sZmlsZQ%3D%3D?line=2'>3</a>\u001b[0m \u001b[39mimport\u001b[39;00m \u001b[39mos\u001b[39;00m\n",
      "\u001b[0;31mModuleNotFoundError\u001b[0m: No module named 'open3d'"
     ]
    }
   ],
   "source": [
    "import open3d as o3d\n",
    "import numpy as np\n",
    "import os\n",
    "\n",
    "def load_point_cloud_from_txt(file_path):\n",
    "    with open(file_path, 'r') as f:\n",
    "        points = [list(map(float, line.strip().split())) for line in f]\n",
    "    return np.array(points)\n",
    "\n",
    "def voxelize_point_cloud(points, voxel_size):\n",
    "    o3d_pc = o3d.geometry.PointCloud()\n",
    "    o3d_pc.points = o3d.utility.Vector3dVector(points)\n",
    "    voxel_grid = o3d.geometry.VoxelGrid.create_from_point_cloud(o3d_pc, voxel_size)\n",
    "    return voxel_grid\n",
    "\n",
    "def process_directory_of_point_clouds(directory_path, voxel_size):\n",
    "    voxel_grids = []\n",
    "    for file_name in os.listdir(directory_path):\n",
    "        if file_name.endswith('.txt'):  # Check for text files\n",
    "            file_path = os.path.join(directory_path, file_name)\n",
    "            points = load_point_cloud_from_txt(file_path)\n",
    "            voxel_grid = voxelize_point_cloud(points, voxel_size)\n",
    "            voxel_grids.append(voxel_grid)\n",
    "            # Optionally, save each voxel grid to a file\n",
    "            # o3d.io.write_voxel_grid(file_path.replace('.txt', '.ply'), voxel_grid)\n",
    "    return voxel_grids\n",
    "\n",
    "# Specify the directory containing the point cloud text files and voxel size\n",
    "point_cloud_directory = 'rosbag_txt'\n",
    "voxel_size = 0.05  # For example, 5cm voxel size\n",
    "\n",
    "# Process all point cloud text files in the specified directory\n",
    "voxel_grids = process_directory_of_point_clouds(point_cloud_directory, voxel_size)\n",
    "\n",
    "# 'voxel_grids' now contains a list of voxel grid objects for each point cloud\n"
   ]
  },
  {
   "cell_type": "code",
   "execution_count": null,
   "metadata": {},
   "outputs": [],
   "source": []
  }
 ],
 "metadata": {
  "kernelspec": {
   "display_name": "base",
   "language": "python",
   "name": "python3"
  },
  "language_info": {
   "codemirror_mode": {
    "name": "ipython",
    "version": 3
   },
   "file_extension": ".py",
   "mimetype": "text/x-python",
   "name": "python",
   "nbconvert_exporter": "python",
   "pygments_lexer": "ipython3",
   "version": "3.10.9"
  }
 },
 "nbformat": 4,
 "nbformat_minor": 2
}
